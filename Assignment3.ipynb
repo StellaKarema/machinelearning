{
 "cells": [
  {
   "cell_type": "markdown",
   "metadata": {},
   "source": [
    "# FML Assignment 3"
   ]
  },
  {
   "cell_type": "markdown",
   "metadata": {},
   "source": [
    "# How linear regression works"
   ]
  },
  {
   "cell_type": "markdown",
   "metadata": {},
   "source": [
    "Linear regression is a model that depends on the y(dependant) and x(independant) variables for predicting the dependant variavle (y). The model is a straight line. Multiple linear regression is a linear model with multiple independent variables (predictors).\n",
    "\n",
    "Linear Relation Model:\n",
    "\n",
    "y = b0 + b1x e\n",
    "\n",
    "b0 -intercept\n",
    "\n",
    "b1 - slope\n",
    "\n",
    "e - error/ residual, whats left over and can't be explained\n",
    "\n",
    "y - dependat variable\n",
    "\n",
    "x - independant variable\n",
    "\n",
    "nr 0 and 1 (both lowercase) -> 0 is parameters, 1 is coeffectants"
   ]
  },
  {
   "cell_type": "code",
   "execution_count": 5,
   "metadata": {},
   "outputs": [],
   "source": [
    "import seaborn as sns\n",
    "import pandas as pd\n",
    "import matplotlib.pyplot as plt\n",
    "import math\n",
    "from sklearn.linear_model import LinearRegression\n",
    "from sklearn.model_selection import train_test_split\n",
    "from sklearn.metrics import mean_squared_error\n",
    "from sklearn.metrics import r2_score"
   ]
  },
  {
   "cell_type": "markdown",
   "metadata": {},
   "source": [
    "# The head() of the resulting data frame"
   ]
  },
  {
   "cell_type": "code",
   "execution_count": 6,
   "metadata": {
    "scrolled": true
   },
   "outputs": [
    {
     "data": {
      "text/html": [
       "<div>\n",
       "<style scoped>\n",
       "    .dataframe tbody tr th:only-of-type {\n",
       "        vertical-align: middle;\n",
       "    }\n",
       "\n",
       "    .dataframe tbody tr th {\n",
       "        vertical-align: top;\n",
       "    }\n",
       "\n",
       "    .dataframe thead th {\n",
       "        text-align: right;\n",
       "    }\n",
       "</style>\n",
       "<table border=\"1\" class=\"dataframe\">\n",
       "  <thead>\n",
       "    <tr style=\"text-align: right;\">\n",
       "      <th></th>\n",
       "      <th>id</th>\n",
       "      <th>url</th>\n",
       "      <th>n_tokens_title</th>\n",
       "      <th>n_tokens_content</th>\n",
       "      <th>num_imgs</th>\n",
       "      <th>num_videos</th>\n",
       "      <th>average_token_length</th>\n",
       "      <th>data_channel_is_lifestyle</th>\n",
       "      <th>data_channel_is_entertainment</th>\n",
       "      <th>data_channel_is_bus</th>\n",
       "      <th>...</th>\n",
       "      <th>weekday_is_friday</th>\n",
       "      <th>weekday_is_saturday</th>\n",
       "      <th>weekday_is_sunday</th>\n",
       "      <th>is_weekend</th>\n",
       "      <th>global_subjectivity</th>\n",
       "      <th>global_sentiment_polarity</th>\n",
       "      <th>title_subjectivity</th>\n",
       "      <th>title_sentiment_polarity</th>\n",
       "      <th>shares</th>\n",
       "      <th>shares_log</th>\n",
       "    </tr>\n",
       "  </thead>\n",
       "  <tbody>\n",
       "    <tr>\n",
       "      <td>0</td>\n",
       "      <td>1</td>\n",
       "      <td>http://mashable.com/2013/10/29/ashton-kutcher-...</td>\n",
       "      <td>10</td>\n",
       "      <td>821</td>\n",
       "      <td>12</td>\n",
       "      <td>0</td>\n",
       "      <td>4.518879</td>\n",
       "      <td>0</td>\n",
       "      <td>0</td>\n",
       "      <td>0</td>\n",
       "      <td>...</td>\n",
       "      <td>0</td>\n",
       "      <td>0</td>\n",
       "      <td>0</td>\n",
       "      <td>0</td>\n",
       "      <td>0.439379</td>\n",
       "      <td>0.082486</td>\n",
       "      <td>0.666667</td>\n",
       "      <td>0.375000</td>\n",
       "      <td>2100</td>\n",
       "      <td>3.322219</td>\n",
       "    </tr>\n",
       "    <tr>\n",
       "      <td>1</td>\n",
       "      <td>2</td>\n",
       "      <td>http://mashable.com/2014/09/08/mashies-sept-19...</td>\n",
       "      <td>9</td>\n",
       "      <td>489</td>\n",
       "      <td>6</td>\n",
       "      <td>0</td>\n",
       "      <td>5.040900</td>\n",
       "      <td>0</td>\n",
       "      <td>0</td>\n",
       "      <td>0</td>\n",
       "      <td>...</td>\n",
       "      <td>0</td>\n",
       "      <td>0</td>\n",
       "      <td>0</td>\n",
       "      <td>0</td>\n",
       "      <td>0.300454</td>\n",
       "      <td>0.027715</td>\n",
       "      <td>0.000000</td>\n",
       "      <td>0.000000</td>\n",
       "      <td>274</td>\n",
       "      <td>2.437751</td>\n",
       "    </tr>\n",
       "    <tr>\n",
       "      <td>2</td>\n",
       "      <td>3</td>\n",
       "      <td>http://mashable.com/2013/02/01/hello-kitty-roc...</td>\n",
       "      <td>11</td>\n",
       "      <td>131</td>\n",
       "      <td>0</td>\n",
       "      <td>1</td>\n",
       "      <td>4.877863</td>\n",
       "      <td>0</td>\n",
       "      <td>0</td>\n",
       "      <td>0</td>\n",
       "      <td>...</td>\n",
       "      <td>1</td>\n",
       "      <td>0</td>\n",
       "      <td>0</td>\n",
       "      <td>0</td>\n",
       "      <td>0.575486</td>\n",
       "      <td>0.259120</td>\n",
       "      <td>0.000000</td>\n",
       "      <td>0.000000</td>\n",
       "      <td>1500</td>\n",
       "      <td>3.176091</td>\n",
       "    </tr>\n",
       "    <tr>\n",
       "      <td>3</td>\n",
       "      <td>4</td>\n",
       "      <td>http://mashable.com/2014/02/06/add-us-on-snapc...</td>\n",
       "      <td>8</td>\n",
       "      <td>556</td>\n",
       "      <td>2</td>\n",
       "      <td>0</td>\n",
       "      <td>4.974820</td>\n",
       "      <td>0</td>\n",
       "      <td>0</td>\n",
       "      <td>1</td>\n",
       "      <td>...</td>\n",
       "      <td>0</td>\n",
       "      <td>0</td>\n",
       "      <td>0</td>\n",
       "      <td>0</td>\n",
       "      <td>0.327220</td>\n",
       "      <td>0.134424</td>\n",
       "      <td>0.000000</td>\n",
       "      <td>0.000000</td>\n",
       "      <td>2000</td>\n",
       "      <td>3.301030</td>\n",
       "    </tr>\n",
       "    <tr>\n",
       "      <td>4</td>\n",
       "      <td>5</td>\n",
       "      <td>http://mashable.com/2014/01/07/lindsey-vonn-wi...</td>\n",
       "      <td>9</td>\n",
       "      <td>880</td>\n",
       "      <td>18</td>\n",
       "      <td>0</td>\n",
       "      <td>4.928409</td>\n",
       "      <td>0</td>\n",
       "      <td>0</td>\n",
       "      <td>0</td>\n",
       "      <td>...</td>\n",
       "      <td>0</td>\n",
       "      <td>0</td>\n",
       "      <td>0</td>\n",
       "      <td>0</td>\n",
       "      <td>0.507709</td>\n",
       "      <td>0.109256</td>\n",
       "      <td>0.000000</td>\n",
       "      <td>0.000000</td>\n",
       "      <td>6000</td>\n",
       "      <td>3.778151</td>\n",
       "    </tr>\n",
       "    <tr>\n",
       "      <td>5</td>\n",
       "      <td>6</td>\n",
       "      <td>http://mashable.com/2014/04/24/amazing-lebron-...</td>\n",
       "      <td>13</td>\n",
       "      <td>303</td>\n",
       "      <td>2</td>\n",
       "      <td>0</td>\n",
       "      <td>4.970297</td>\n",
       "      <td>0</td>\n",
       "      <td>0</td>\n",
       "      <td>0</td>\n",
       "      <td>...</td>\n",
       "      <td>0</td>\n",
       "      <td>0</td>\n",
       "      <td>0</td>\n",
       "      <td>0</td>\n",
       "      <td>0.394298</td>\n",
       "      <td>0.048684</td>\n",
       "      <td>0.000000</td>\n",
       "      <td>0.000000</td>\n",
       "      <td>1200</td>\n",
       "      <td>3.079181</td>\n",
       "    </tr>\n",
       "    <tr>\n",
       "      <td>6</td>\n",
       "      <td>7</td>\n",
       "      <td>http://mashable.com/2013/06/22/social-media-we...</td>\n",
       "      <td>6</td>\n",
       "      <td>544</td>\n",
       "      <td>11</td>\n",
       "      <td>0</td>\n",
       "      <td>4.617647</td>\n",
       "      <td>0</td>\n",
       "      <td>0</td>\n",
       "      <td>0</td>\n",
       "      <td>...</td>\n",
       "      <td>0</td>\n",
       "      <td>1</td>\n",
       "      <td>0</td>\n",
       "      <td>1</td>\n",
       "      <td>0.439512</td>\n",
       "      <td>0.267391</td>\n",
       "      <td>0.500000</td>\n",
       "      <td>0.500000</td>\n",
       "      <td>3500</td>\n",
       "      <td>3.544068</td>\n",
       "    </tr>\n",
       "    <tr>\n",
       "      <td>7</td>\n",
       "      <td>8</td>\n",
       "      <td>http://mashable.com/2013/07/09/russian-deletes...</td>\n",
       "      <td>12</td>\n",
       "      <td>223</td>\n",
       "      <td>1</td>\n",
       "      <td>0</td>\n",
       "      <td>4.399103</td>\n",
       "      <td>0</td>\n",
       "      <td>0</td>\n",
       "      <td>0</td>\n",
       "      <td>...</td>\n",
       "      <td>0</td>\n",
       "      <td>0</td>\n",
       "      <td>0</td>\n",
       "      <td>0</td>\n",
       "      <td>0.394792</td>\n",
       "      <td>0.053125</td>\n",
       "      <td>0.218182</td>\n",
       "      <td>0.145455</td>\n",
       "      <td>1500</td>\n",
       "      <td>3.176091</td>\n",
       "    </tr>\n",
       "    <tr>\n",
       "      <td>8</td>\n",
       "      <td>9</td>\n",
       "      <td>http://mashable.com/2013/03/07/3d-printed-skull/</td>\n",
       "      <td>8</td>\n",
       "      <td>438</td>\n",
       "      <td>1</td>\n",
       "      <td>0</td>\n",
       "      <td>5.027397</td>\n",
       "      <td>0</td>\n",
       "      <td>0</td>\n",
       "      <td>0</td>\n",
       "      <td>...</td>\n",
       "      <td>0</td>\n",
       "      <td>0</td>\n",
       "      <td>0</td>\n",
       "      <td>0</td>\n",
       "      <td>0.479187</td>\n",
       "      <td>0.166913</td>\n",
       "      <td>0.500000</td>\n",
       "      <td>0.200000</td>\n",
       "      <td>3100</td>\n",
       "      <td>3.491362</td>\n",
       "    </tr>\n",
       "    <tr>\n",
       "      <td>9</td>\n",
       "      <td>10</td>\n",
       "      <td>http://mashable.com/2013/11/16/xbox-one-vs-pla...</td>\n",
       "      <td>11</td>\n",
       "      <td>389</td>\n",
       "      <td>1</td>\n",
       "      <td>1</td>\n",
       "      <td>4.642674</td>\n",
       "      <td>0</td>\n",
       "      <td>0</td>\n",
       "      <td>1</td>\n",
       "      <td>...</td>\n",
       "      <td>0</td>\n",
       "      <td>1</td>\n",
       "      <td>0</td>\n",
       "      <td>1</td>\n",
       "      <td>0.417229</td>\n",
       "      <td>0.183895</td>\n",
       "      <td>0.166667</td>\n",
       "      <td>0.000000</td>\n",
       "      <td>27300</td>\n",
       "      <td>4.436163</td>\n",
       "    </tr>\n",
       "  </tbody>\n",
       "</table>\n",
       "<p>10 rows × 27 columns</p>\n",
       "</div>"
      ],
      "text/plain": [
       "   id                                                url  n_tokens_title  \\\n",
       "0   1  http://mashable.com/2013/10/29/ashton-kutcher-...              10   \n",
       "1   2  http://mashable.com/2014/09/08/mashies-sept-19...               9   \n",
       "2   3  http://mashable.com/2013/02/01/hello-kitty-roc...              11   \n",
       "3   4  http://mashable.com/2014/02/06/add-us-on-snapc...               8   \n",
       "4   5  http://mashable.com/2014/01/07/lindsey-vonn-wi...               9   \n",
       "5   6  http://mashable.com/2014/04/24/amazing-lebron-...              13   \n",
       "6   7  http://mashable.com/2013/06/22/social-media-we...               6   \n",
       "7   8  http://mashable.com/2013/07/09/russian-deletes...              12   \n",
       "8   9   http://mashable.com/2013/03/07/3d-printed-skull/               8   \n",
       "9  10  http://mashable.com/2013/11/16/xbox-one-vs-pla...              11   \n",
       "\n",
       "   n_tokens_content  num_imgs  num_videos  average_token_length  \\\n",
       "0               821        12           0              4.518879   \n",
       "1               489         6           0              5.040900   \n",
       "2               131         0           1              4.877863   \n",
       "3               556         2           0              4.974820   \n",
       "4               880        18           0              4.928409   \n",
       "5               303         2           0              4.970297   \n",
       "6               544        11           0              4.617647   \n",
       "7               223         1           0              4.399103   \n",
       "8               438         1           0              5.027397   \n",
       "9               389         1           1              4.642674   \n",
       "\n",
       "   data_channel_is_lifestyle  data_channel_is_entertainment  \\\n",
       "0                          0                              0   \n",
       "1                          0                              0   \n",
       "2                          0                              0   \n",
       "3                          0                              0   \n",
       "4                          0                              0   \n",
       "5                          0                              0   \n",
       "6                          0                              0   \n",
       "7                          0                              0   \n",
       "8                          0                              0   \n",
       "9                          0                              0   \n",
       "\n",
       "   data_channel_is_bus  ...  weekday_is_friday  weekday_is_saturday  \\\n",
       "0                    0  ...                  0                    0   \n",
       "1                    0  ...                  0                    0   \n",
       "2                    0  ...                  1                    0   \n",
       "3                    1  ...                  0                    0   \n",
       "4                    0  ...                  0                    0   \n",
       "5                    0  ...                  0                    0   \n",
       "6                    0  ...                  0                    1   \n",
       "7                    0  ...                  0                    0   \n",
       "8                    0  ...                  0                    0   \n",
       "9                    1  ...                  0                    1   \n",
       "\n",
       "   weekday_is_sunday  is_weekend  global_subjectivity  \\\n",
       "0                  0           0             0.439379   \n",
       "1                  0           0             0.300454   \n",
       "2                  0           0             0.575486   \n",
       "3                  0           0             0.327220   \n",
       "4                  0           0             0.507709   \n",
       "5                  0           0             0.394298   \n",
       "6                  0           1             0.439512   \n",
       "7                  0           0             0.394792   \n",
       "8                  0           0             0.479187   \n",
       "9                  0           1             0.417229   \n",
       "\n",
       "   global_sentiment_polarity  title_subjectivity  title_sentiment_polarity  \\\n",
       "0                   0.082486            0.666667                  0.375000   \n",
       "1                   0.027715            0.000000                  0.000000   \n",
       "2                   0.259120            0.000000                  0.000000   \n",
       "3                   0.134424            0.000000                  0.000000   \n",
       "4                   0.109256            0.000000                  0.000000   \n",
       "5                   0.048684            0.000000                  0.000000   \n",
       "6                   0.267391            0.500000                  0.500000   \n",
       "7                   0.053125            0.218182                  0.145455   \n",
       "8                   0.166913            0.500000                  0.200000   \n",
       "9                   0.183895            0.166667                  0.000000   \n",
       "\n",
       "   shares  shares_log  \n",
       "0    2100    3.322219  \n",
       "1     274    2.437751  \n",
       "2    1500    3.176091  \n",
       "3    2000    3.301030  \n",
       "4    6000    3.778151  \n",
       "5    1200    3.079181  \n",
       "6    3500    3.544068  \n",
       "7    1500    3.176091  \n",
       "8    3100    3.491362  \n",
       "9   27300    4.436163  \n",
       "\n",
       "[10 rows x 27 columns]"
      ]
     },
     "execution_count": 6,
     "metadata": {},
     "output_type": "execute_result"
    }
   ],
   "source": [
    "df = pd.read_csv('dataMashable.csv')\n",
    "df.head(10)"
   ]
  },
  {
   "cell_type": "markdown",
   "metadata": {},
   "source": [
    "# Creating a subset dataframe for the x variable"
   ]
  },
  {
   "cell_type": "markdown",
   "metadata": {},
   "source": [
    "The x contents were selected as they are all not \"dummy variables\"."
   ]
  },
  {
   "cell_type": "code",
   "execution_count": 7,
   "metadata": {},
   "outputs": [
    {
     "data": {
      "text/html": [
       "<div>\n",
       "<style scoped>\n",
       "    .dataframe tbody tr th:only-of-type {\n",
       "        vertical-align: middle;\n",
       "    }\n",
       "\n",
       "    .dataframe tbody tr th {\n",
       "        vertical-align: top;\n",
       "    }\n",
       "\n",
       "    .dataframe thead th {\n",
       "        text-align: right;\n",
       "    }\n",
       "</style>\n",
       "<table border=\"1\" class=\"dataframe\">\n",
       "  <thead>\n",
       "    <tr style=\"text-align: right;\">\n",
       "      <th></th>\n",
       "      <th>n_tokens_title</th>\n",
       "      <th>n_tokens_content</th>\n",
       "      <th>average_token_length</th>\n",
       "      <th>global_subjectivity</th>\n",
       "      <th>global_sentiment_polarity</th>\n",
       "    </tr>\n",
       "  </thead>\n",
       "  <tbody>\n",
       "    <tr>\n",
       "      <td>0</td>\n",
       "      <td>10</td>\n",
       "      <td>821</td>\n",
       "      <td>4.518879</td>\n",
       "      <td>0.439379</td>\n",
       "      <td>0.082486</td>\n",
       "    </tr>\n",
       "    <tr>\n",
       "      <td>1</td>\n",
       "      <td>9</td>\n",
       "      <td>489</td>\n",
       "      <td>5.040900</td>\n",
       "      <td>0.300454</td>\n",
       "      <td>0.027715</td>\n",
       "    </tr>\n",
       "    <tr>\n",
       "      <td>2</td>\n",
       "      <td>11</td>\n",
       "      <td>131</td>\n",
       "      <td>4.877863</td>\n",
       "      <td>0.575486</td>\n",
       "      <td>0.259120</td>\n",
       "    </tr>\n",
       "    <tr>\n",
       "      <td>3</td>\n",
       "      <td>8</td>\n",
       "      <td>556</td>\n",
       "      <td>4.974820</td>\n",
       "      <td>0.327220</td>\n",
       "      <td>0.134424</td>\n",
       "    </tr>\n",
       "    <tr>\n",
       "      <td>4</td>\n",
       "      <td>9</td>\n",
       "      <td>880</td>\n",
       "      <td>4.928409</td>\n",
       "      <td>0.507709</td>\n",
       "      <td>0.109256</td>\n",
       "    </tr>\n",
       "  </tbody>\n",
       "</table>\n",
       "</div>"
      ],
      "text/plain": [
       "   n_tokens_title  n_tokens_content  average_token_length  \\\n",
       "0              10               821              4.518879   \n",
       "1               9               489              5.040900   \n",
       "2              11               131              4.877863   \n",
       "3               8               556              4.974820   \n",
       "4               9               880              4.928409   \n",
       "\n",
       "   global_subjectivity  global_sentiment_polarity  \n",
       "0             0.439379                   0.082486  \n",
       "1             0.300454                   0.027715  \n",
       "2             0.575486                   0.259120  \n",
       "3             0.327220                   0.134424  \n",
       "4             0.507709                   0.109256  "
      ]
     },
     "execution_count": 7,
     "metadata": {},
     "output_type": "execute_result"
    }
   ],
   "source": [
    "df_subset = df[[\"n_tokens_title\", \"n_tokens_content\", \"average_token_length\", \"global_subjectivity\", \"global_sentiment_polarity\"]]\n",
    "df_subset.head()"
   ]
  },
  {
   "cell_type": "markdown",
   "metadata": {},
   "source": [
    "# Assigning the x and y variables for the model"
   ]
  },
  {
   "cell_type": "markdown",
   "metadata": {},
   "source": [
    "Where X is the df_subset created previously, and Y is the shares_lof from the inital dataframe. The items are identified through the URL of the page."
   ]
  },
  {
   "cell_type": "code",
   "execution_count": 8,
   "metadata": {},
   "outputs": [
    {
     "data": {
      "text/html": [
       "<div>\n",
       "<style scoped>\n",
       "    .dataframe tbody tr th:only-of-type {\n",
       "        vertical-align: middle;\n",
       "    }\n",
       "\n",
       "    .dataframe tbody tr th {\n",
       "        vertical-align: top;\n",
       "    }\n",
       "\n",
       "    .dataframe thead th {\n",
       "        text-align: right;\n",
       "    }\n",
       "</style>\n",
       "<table border=\"1\" class=\"dataframe\">\n",
       "  <thead>\n",
       "    <tr style=\"text-align: right;\">\n",
       "      <th></th>\n",
       "      <th>n_tokens_title</th>\n",
       "      <th>n_tokens_content</th>\n",
       "      <th>average_token_length</th>\n",
       "      <th>global_subjectivity</th>\n",
       "      <th>global_sentiment_polarity</th>\n",
       "    </tr>\n",
       "    <tr>\n",
       "      <th>url</th>\n",
       "      <th></th>\n",
       "      <th></th>\n",
       "      <th></th>\n",
       "      <th></th>\n",
       "      <th></th>\n",
       "    </tr>\n",
       "  </thead>\n",
       "  <tbody>\n",
       "    <tr>\n",
       "      <td>http://mashable.com/2013/10/29/ashton-kutcher-lenovo/</td>\n",
       "      <td>10</td>\n",
       "      <td>821</td>\n",
       "      <td>4.518879</td>\n",
       "      <td>0.439379</td>\n",
       "      <td>0.082486</td>\n",
       "    </tr>\n",
       "    <tr>\n",
       "      <td>http://mashable.com/2014/09/08/mashies-sept-19-deadline/</td>\n",
       "      <td>9</td>\n",
       "      <td>489</td>\n",
       "      <td>5.040900</td>\n",
       "      <td>0.300454</td>\n",
       "      <td>0.027715</td>\n",
       "    </tr>\n",
       "    <tr>\n",
       "      <td>http://mashable.com/2013/02/01/hello-kitty-rocket/</td>\n",
       "      <td>11</td>\n",
       "      <td>131</td>\n",
       "      <td>4.877863</td>\n",
       "      <td>0.575486</td>\n",
       "      <td>0.259120</td>\n",
       "    </tr>\n",
       "    <tr>\n",
       "      <td>http://mashable.com/2014/02/06/add-us-on-snapchat/</td>\n",
       "      <td>8</td>\n",
       "      <td>556</td>\n",
       "      <td>4.974820</td>\n",
       "      <td>0.327220</td>\n",
       "      <td>0.134424</td>\n",
       "    </tr>\n",
       "    <tr>\n",
       "      <td>http://mashable.com/2014/01/07/lindsey-vonn-withdraws-sochi-olympics-knee-injury/</td>\n",
       "      <td>9</td>\n",
       "      <td>880</td>\n",
       "      <td>4.928409</td>\n",
       "      <td>0.507709</td>\n",
       "      <td>0.109256</td>\n",
       "    </tr>\n",
       "  </tbody>\n",
       "</table>\n",
       "</div>"
      ],
      "text/plain": [
       "                                                    n_tokens_title  \\\n",
       "url                                                                  \n",
       "http://mashable.com/2013/10/29/ashton-kutcher-l...              10   \n",
       "http://mashable.com/2014/09/08/mashies-sept-19-...               9   \n",
       "http://mashable.com/2013/02/01/hello-kitty-rocket/              11   \n",
       "http://mashable.com/2014/02/06/add-us-on-snapchat/               8   \n",
       "http://mashable.com/2014/01/07/lindsey-vonn-wit...               9   \n",
       "\n",
       "                                                    n_tokens_content  \\\n",
       "url                                                                    \n",
       "http://mashable.com/2013/10/29/ashton-kutcher-l...               821   \n",
       "http://mashable.com/2014/09/08/mashies-sept-19-...               489   \n",
       "http://mashable.com/2013/02/01/hello-kitty-rocket/               131   \n",
       "http://mashable.com/2014/02/06/add-us-on-snapchat/               556   \n",
       "http://mashable.com/2014/01/07/lindsey-vonn-wit...               880   \n",
       "\n",
       "                                                    average_token_length  \\\n",
       "url                                                                        \n",
       "http://mashable.com/2013/10/29/ashton-kutcher-l...              4.518879   \n",
       "http://mashable.com/2014/09/08/mashies-sept-19-...              5.040900   \n",
       "http://mashable.com/2013/02/01/hello-kitty-rocket/              4.877863   \n",
       "http://mashable.com/2014/02/06/add-us-on-snapchat/              4.974820   \n",
       "http://mashable.com/2014/01/07/lindsey-vonn-wit...              4.928409   \n",
       "\n",
       "                                                    global_subjectivity  \\\n",
       "url                                                                       \n",
       "http://mashable.com/2013/10/29/ashton-kutcher-l...             0.439379   \n",
       "http://mashable.com/2014/09/08/mashies-sept-19-...             0.300454   \n",
       "http://mashable.com/2013/02/01/hello-kitty-rocket/             0.575486   \n",
       "http://mashable.com/2014/02/06/add-us-on-snapchat/             0.327220   \n",
       "http://mashable.com/2014/01/07/lindsey-vonn-wit...             0.507709   \n",
       "\n",
       "                                                    global_sentiment_polarity  \n",
       "url                                                                            \n",
       "http://mashable.com/2013/10/29/ashton-kutcher-l...                   0.082486  \n",
       "http://mashable.com/2014/09/08/mashies-sept-19-...                   0.027715  \n",
       "http://mashable.com/2013/02/01/hello-kitty-rocket/                   0.259120  \n",
       "http://mashable.com/2014/02/06/add-us-on-snapchat/                   0.134424  \n",
       "http://mashable.com/2014/01/07/lindsey-vonn-wit...                   0.109256  "
      ]
     },
     "execution_count": 8,
     "metadata": {},
     "output_type": "execute_result"
    }
   ],
   "source": [
    "y = df['shares_log'] \n",
    "X =  df_subset\n",
    "X.index = df['url']\n",
    "X.head()"
   ]
  },
  {
   "cell_type": "markdown",
   "metadata": {},
   "source": [
    "# Splitting the data into training 70% and test data 30%"
   ]
  },
  {
   "cell_type": "code",
   "execution_count": 9,
   "metadata": {},
   "outputs": [
    {
     "data": {
      "text/html": [
       "<div>\n",
       "<style scoped>\n",
       "    .dataframe tbody tr th:only-of-type {\n",
       "        vertical-align: middle;\n",
       "    }\n",
       "\n",
       "    .dataframe tbody tr th {\n",
       "        vertical-align: top;\n",
       "    }\n",
       "\n",
       "    .dataframe thead th {\n",
       "        text-align: right;\n",
       "    }\n",
       "</style>\n",
       "<table border=\"1\" class=\"dataframe\">\n",
       "  <thead>\n",
       "    <tr style=\"text-align: right;\">\n",
       "      <th></th>\n",
       "      <th>n_tokens_title</th>\n",
       "      <th>n_tokens_content</th>\n",
       "      <th>average_token_length</th>\n",
       "      <th>global_subjectivity</th>\n",
       "      <th>global_sentiment_polarity</th>\n",
       "    </tr>\n",
       "    <tr>\n",
       "      <th>url</th>\n",
       "      <th></th>\n",
       "      <th></th>\n",
       "      <th></th>\n",
       "      <th></th>\n",
       "      <th></th>\n",
       "    </tr>\n",
       "  </thead>\n",
       "  <tbody>\n",
       "    <tr>\n",
       "      <td>http://mashable.com/2013/02/03/puppy-bowl-online/</td>\n",
       "      <td>7</td>\n",
       "      <td>141</td>\n",
       "      <td>4.560284</td>\n",
       "      <td>0.451711</td>\n",
       "      <td>0.230736</td>\n",
       "    </tr>\n",
       "    <tr>\n",
       "      <td>http://mashable.com/2014/09/11/bridesmaid-lost-dress-sydney/</td>\n",
       "      <td>9</td>\n",
       "      <td>392</td>\n",
       "      <td>4.732143</td>\n",
       "      <td>0.476976</td>\n",
       "      <td>0.078816</td>\n",
       "    </tr>\n",
       "    <tr>\n",
       "      <td>http://mashable.com/2013/03/08/facebook-acquires-storylane/</td>\n",
       "      <td>9</td>\n",
       "      <td>622</td>\n",
       "      <td>4.710611</td>\n",
       "      <td>0.488495</td>\n",
       "      <td>0.263511</td>\n",
       "    </tr>\n",
       "    <tr>\n",
       "      <td>http://mashable.com/2014/04/29/yahoo-mail-app-redesign/</td>\n",
       "      <td>12</td>\n",
       "      <td>251</td>\n",
       "      <td>4.669323</td>\n",
       "      <td>0.545746</td>\n",
       "      <td>0.052758</td>\n",
       "    </tr>\n",
       "    <tr>\n",
       "      <td>http://mashable.com/2013/08/28/chef-knife-moves-video/</td>\n",
       "      <td>8</td>\n",
       "      <td>940</td>\n",
       "      <td>4.511702</td>\n",
       "      <td>0.507042</td>\n",
       "      <td>0.063513</td>\n",
       "    </tr>\n",
       "  </tbody>\n",
       "</table>\n",
       "</div>"
      ],
      "text/plain": [
       "                                                    n_tokens_title  \\\n",
       "url                                                                  \n",
       "http://mashable.com/2013/02/03/puppy-bowl-online/                7   \n",
       "http://mashable.com/2014/09/11/bridesmaid-lost-...               9   \n",
       "http://mashable.com/2013/03/08/facebook-acquire...               9   \n",
       "http://mashable.com/2014/04/29/yahoo-mail-app-r...              12   \n",
       "http://mashable.com/2013/08/28/chef-knife-moves...               8   \n",
       "\n",
       "                                                    n_tokens_content  \\\n",
       "url                                                                    \n",
       "http://mashable.com/2013/02/03/puppy-bowl-online/                141   \n",
       "http://mashable.com/2014/09/11/bridesmaid-lost-...               392   \n",
       "http://mashable.com/2013/03/08/facebook-acquire...               622   \n",
       "http://mashable.com/2014/04/29/yahoo-mail-app-r...               251   \n",
       "http://mashable.com/2013/08/28/chef-knife-moves...               940   \n",
       "\n",
       "                                                    average_token_length  \\\n",
       "url                                                                        \n",
       "http://mashable.com/2013/02/03/puppy-bowl-online/               4.560284   \n",
       "http://mashable.com/2014/09/11/bridesmaid-lost-...              4.732143   \n",
       "http://mashable.com/2013/03/08/facebook-acquire...              4.710611   \n",
       "http://mashable.com/2014/04/29/yahoo-mail-app-r...              4.669323   \n",
       "http://mashable.com/2013/08/28/chef-knife-moves...              4.511702   \n",
       "\n",
       "                                                    global_subjectivity  \\\n",
       "url                                                                       \n",
       "http://mashable.com/2013/02/03/puppy-bowl-online/              0.451711   \n",
       "http://mashable.com/2014/09/11/bridesmaid-lost-...             0.476976   \n",
       "http://mashable.com/2013/03/08/facebook-acquire...             0.488495   \n",
       "http://mashable.com/2014/04/29/yahoo-mail-app-r...             0.545746   \n",
       "http://mashable.com/2013/08/28/chef-knife-moves...             0.507042   \n",
       "\n",
       "                                                    global_sentiment_polarity  \n",
       "url                                                                            \n",
       "http://mashable.com/2013/02/03/puppy-bowl-online/                    0.230736  \n",
       "http://mashable.com/2014/09/11/bridesmaid-lost-...                   0.078816  \n",
       "http://mashable.com/2013/03/08/facebook-acquire...                   0.263511  \n",
       "http://mashable.com/2014/04/29/yahoo-mail-app-r...                   0.052758  \n",
       "http://mashable.com/2013/08/28/chef-knife-moves...                   0.063513  "
      ]
     },
     "execution_count": 9,
     "metadata": {},
     "output_type": "execute_result"
    }
   ],
   "source": [
    "#This built-in function from sk-learn splits the data set randomly into a train set and a test set\n",
    "#By stating random_state = 1, we use one particular \"random state\".\n",
    "#This means if we run the code again, it will produce the same results.\n",
    "#test_size = 0.3, so splitting the data into 70% training data and 30% test data\n",
    "\n",
    "X_train, X_test, y_train, y_test = train_test_split(X, y, test_size=0.3, random_state=1) #split the data, store it into different variables\n",
    "X_train.head() #The train data"
   ]
  },
  {
   "cell_type": "markdown",
   "metadata": {},
   "source": [
    "# Training the model to predict shares using five X variables"
   ]
  },
  {
   "cell_type": "code",
   "execution_count": 10,
   "metadata": {},
   "outputs": [],
   "source": [
    "lm = LinearRegression() #create the model\n",
    "model = lm.fit(X_train, y_train) #train the model"
   ]
  },
  {
   "cell_type": "code",
   "execution_count": 11,
   "metadata": {},
   "outputs": [
    {
     "data": {
      "text/html": [
       "<div>\n",
       "<style scoped>\n",
       "    .dataframe tbody tr th:only-of-type {\n",
       "        vertical-align: middle;\n",
       "    }\n",
       "\n",
       "    .dataframe tbody tr th {\n",
       "        vertical-align: top;\n",
       "    }\n",
       "\n",
       "    .dataframe thead th {\n",
       "        text-align: right;\n",
       "    }\n",
       "</style>\n",
       "<table border=\"1\" class=\"dataframe\">\n",
       "  <thead>\n",
       "    <tr style=\"text-align: right;\">\n",
       "      <th></th>\n",
       "      <th>0</th>\n",
       "    </tr>\n",
       "  </thead>\n",
       "  <tbody>\n",
       "    <tr>\n",
       "      <td>-0.002817</td>\n",
       "      <td>n_tokens_title</td>\n",
       "    </tr>\n",
       "    <tr>\n",
       "      <td>0.000022</td>\n",
       "      <td>n_tokens_content</td>\n",
       "    </tr>\n",
       "    <tr>\n",
       "      <td>-0.063819</td>\n",
       "      <td>average_token_length</td>\n",
       "    </tr>\n",
       "    <tr>\n",
       "      <td>0.508590</td>\n",
       "      <td>global_subjectivity</td>\n",
       "    </tr>\n",
       "    <tr>\n",
       "      <td>0.122868</td>\n",
       "      <td>global_sentiment_polarity</td>\n",
       "    </tr>\n",
       "  </tbody>\n",
       "</table>\n",
       "</div>"
      ],
      "text/plain": [
       "                                   0\n",
       "-0.002817             n_tokens_title\n",
       " 0.000022           n_tokens_content\n",
       "-0.063819       average_token_length\n",
       " 0.508590        global_subjectivity\n",
       " 0.122868  global_sentiment_polarity"
      ]
     },
     "execution_count": 11,
     "metadata": {},
     "output_type": "execute_result"
    }
   ],
   "source": [
    "coef = pd.DataFrame(X.columns.values, lm.coef_) #this creates a df with a column with the column names, and the coefficients of the model\n",
    "coef"
   ]
  },
  {
   "cell_type": "markdown",
   "metadata": {},
   "source": [
    "We can interpret these coefficients as follows:\n",
    "The intercept makes no sense and does not need to be interpreted. Because it's the value for all X's are 0. \n",
    "As the global_subjectivity is higher than the rest (0.508590) it has the highest correlation to the amount of shares."
   ]
  },
  {
   "cell_type": "markdown",
   "metadata": {},
   "source": [
    "# An equation of the model (using Markdown formulas)"
   ]
  },
  {
   "cell_type": "code",
   "execution_count": 12,
   "metadata": {},
   "outputs": [
    {
     "name": "stdout",
     "output_type": "stream",
     "text": [
      "The regression line is equal to y = 3.31 + -0.00X\n"
     ]
    }
   ],
   "source": [
    "lm.fit(X, y) #this \"fits\" the model\n",
    "\n",
    "b0 = lm.intercept_ #gets the intercept\n",
    "b1 = lm.coef_[0] #lm.coef_ gets a list of coefficients (excluding the intercept). [0] gets the actual number from the list\n",
    "\n",
    "print(f\"The regression line is equal to y = {b0:.2f} + {b1:.2f}X\") #.0f formats to 2 decimals."
   ]
  },
  {
   "cell_type": "markdown",
   "metadata": {},
   "source": [
    "The regression line is equal to  y = 3.31 + -0.00X\n",
    "Or, in a  Markdown formula (using $ to begin and end a formula):\n",
    "$y = 3.31 + -0.00X$ "
   ]
  },
  {
   "cell_type": "markdown",
   "metadata": {},
   "source": [
    "# Evaluating the model on the test data"
   ]
  },
  {
   "cell_type": "code",
   "execution_count": 13,
   "metadata": {},
   "outputs": [
    {
     "data": {
      "text/plain": [
       "0.021740985213041575"
      ]
     },
     "execution_count": 13,
     "metadata": {},
     "output_type": "execute_result"
    }
   ],
   "source": [
    "y_test_p = lm.predict(X_test) #Generate predictions for the test data. So we use X.test, not X.train\n",
    "r2_score(y_test, y_test_p)"
   ]
  },
  {
   "cell_type": "markdown",
   "metadata": {},
   "source": [
    "The R^2 is 0.025, which means 2,5% of the variation in amount of shares is explained by the model. Which means the model is quite inaccurate and unreliable. "
   ]
  },
  {
   "cell_type": "code",
   "execution_count": 14,
   "metadata": {},
   "outputs": [
    {
     "data": {
      "text/plain": [
       "0.40159356330813994"
      ]
     },
     "execution_count": 14,
     "metadata": {},
     "output_type": "execute_result"
    }
   ],
   "source": [
    "math.sqrt(mean_squared_error(y_test, y_test_p))"
   ]
  },
  {
   "cell_type": "markdown",
   "metadata": {},
   "source": [
    "The RMSE (the root mean squared error) is 0.40. Which means that we are typically about 0.40 off in our predicted shares."
   ]
  },
  {
   "cell_type": "code",
   "execution_count": 15,
   "metadata": {},
   "outputs": [
    {
     "data": {
      "image/png": "[encoded data removed]",
      "text/plain": [
       "<Figure size 432x288 with 1 Axes>"
      ]
     },
     "metadata": {
      "needs_background": "light"
     },
     "output_type": "display_data"
    }
   ],
   "source": [
    "sns.scatterplot(y_test, y_test_p)\n",
    "plt.xlabel('Actual shares')\n",
    "plt.ylabel('Predicted shares')\n",
    "plt.xlim([2,5]) #Forcing the x- and y-axis to be the same length, so that we can compare \n",
    "plt.ylim([2,5])\n",
    "plt.plot([2, 5], [2, 5], color='orange', lw=3) #Plot a diagonal length\n",
    "plt.show()"
   ]
  },
  {
   "cell_type": "markdown",
   "metadata": {},
   "source": [
    "The predictions are quite unbalanced. There are some quite poor and great articles with very little or very high shares, that the model doesn't predict  well (the model predicts them too low ar high: we can see that because they are plotted right or left from the red line), and overall the model is doing a poor job."
   ]
  },
  {
   "cell_type": "markdown",
   "metadata": {},
   "source": [
    "#  Plots of the relation of selected variables with the target"
   ]
  },
  {
   "cell_type": "code",
   "execution_count": 16,
   "metadata": {},
   "outputs": [],
   "source": [
    "y_pred = lm.predict(X_test) #generate predictions\n",
    "resid = y_pred - y_test #get residuals by subtracting the prediction from the actual shares"
   ]
  },
  {
   "cell_type": "code",
   "execution_count": 17,
   "metadata": {},
   "outputs": [
    {
     "data": {
      "image/png": "[encoded data removed]",
      "text/plain": [
       "<Figure size 432x288 with 1 Axes>"
      ]
     },
     "metadata": {
      "needs_background": "light"
     },
     "output_type": "display_data"
    }
   ],
   "source": [
    "sns.scatterplot(x=y_test, y=resid, data=df)\n",
    "plt.xlabel('shares_log')\n",
    "plt.ylabel('Residuals (shares)')\n",
    "plt.show()"
   ]
  },
  {
   "cell_type": "markdown",
   "metadata": {},
   "source": [
    "This plot shows that the errors are quite far off. Example: when there are 4 shares, the predictive model adds +1 and in order to fix that the model removes -1 for correcting the error."
   ]
  },
  {
   "cell_type": "code",
   "execution_count": 19,
   "metadata": {},
   "outputs": [
    {
     "data": {
      "image/png": "[encoded data removed]",
      "text/plain": [
       "<Figure size 432x288 with 1 Axes>"
      ]
     },
     "metadata": {
      "needs_background": "light"
     },
     "output_type": "display_data"
    }
   ],
   "source": [
    "sns.scatterplot(x=y_test,y=y_pred, data=df)\n",
    "plt.xlabel('shares (log)')\n",
    "plt.ylabel('predicted shares (log)')\n",
    "plt.show()"
   ]
  },
  {
   "cell_type": "markdown",
   "metadata": {},
   "source": [
    "This plot shows that the predicted shares are quite far from the actual amount of shares."
   ]
  }
 ],
 "metadata": {
  "kernelspec": {
   "display_name": "Python 3",
   "language": "python",
   "name": "python3"
  },
  "language_info": {
   "codemirror_mode": {
    "name": "ipython",
    "version": 3
   },
   "file_extension": ".py",
   "mimetype": "text/x-python",
   "name": "python",
   "nbconvert_exporter": "python",
   "pygments_lexer": "ipython3",
   "version": "3.7.3"
  }
 },
 "nbformat": 4,
 "nbformat_minor": 2
}
