{
 "cells": [
  {
   "cell_type": "code",
   "execution_count": 1,
   "metadata": {},
   "outputs": [],
   "source": [
    "import seaborn as sns #this is the plotting library I'll be using \n",
    "import pandas as pd #\"as pd\" means that we can use the abbreviation in commands\n",
    "import matplotlib.pyplot as plt #we need Matplotlib for setting the labels in the Seaborn graphs"
   ]
  },
  {
   "cell_type": "code",
   "execution_count": 2,
   "metadata": {},
   "outputs": [],
   "source": [
    "df1 = pd.read_csv('Assignment 1 - steps data.csv', sep=\";\") #delimiter=\";\"\n",
    "df2 = pd.read_csv('Assignment 1 - survey data.csv')\n",
    "#df1.head(25)"
   ]
  },
  {
   "cell_type": "code",
   "execution_count": 9,
   "metadata": {},
   "outputs": [
    {
     "data": {
      "text/plain": [
       "170.0    62\n",
       "180.0    53\n",
       "165.0    51\n",
       "175.0    50\n",
       "172.0    45\n",
       "160.0    45\n",
       "168.0    44\n",
       "178.0    36\n",
       "163.0    32\n",
       "169.0    31\n",
       "173.0    29\n",
       "162.0    29\n",
       "167.0    28\n",
       "176.0    28\n",
       "183.0    26\n",
       "182.0    25\n",
       "185.0    24\n",
       "174.0    23\n",
       "171.0    20\n",
       "177.0    19\n",
       "158.0    19\n",
       "181.0    18\n",
       "186.0    17\n",
       "187.0    16\n",
       "164.0    16\n",
       "166.0    15\n",
       "161.0    15\n",
       "179.0    13\n",
       "157.0    11\n",
       "155.0     9\n",
       "156.0     9\n",
       "188.0     9\n",
       "184.0     9\n",
       "159.0     6\n",
       "190.0     6\n",
       "192.0     5\n",
       "153.0     4\n",
       "152.0     4\n",
       "189.0     4\n",
       "154.0     4\n",
       "150.0     3\n",
       "195.0     3\n",
       "193.0     3\n",
       "151.0     3\n",
       "191.0     2\n",
       "197.0     1\n",
       "145.0     1\n",
       "Name: height, dtype: int64"
      ]
     },
     "execution_count": 9,
     "metadata": {},
     "output_type": "execute_result"
    }
   ],
   "source": [
    "df = pd.merge(df1, df2, on = 'id') #combine dataframes\n",
    "df.head()\n",
    "df['height'].value_counts() #get a column from the dataframe"
   ]
  },
  {
   "cell_type": "code",
   "execution_count": 7,
   "metadata": {},
   "outputs": [
    {
     "name": "stdout",
     "output_type": "stream",
     "text": [
      "The median height is: 172.0 cm\n",
      "The mean height is: 171.7545945945946 cm\n"
     ]
    },
    {
     "data": {
      "image/png": "[encoded data removed]",
      "text/plain": [
       "<Figure size 432x288 with 1 Axes>"
      ]
     },
     "metadata": {
      "needs_background": "light"
     },
     "output_type": "display_data"
    }
   ],
   "source": [
    "#distribution chart with mean and median\n",
    "#mean and median statistics\n",
    "df['height'].name = 'height' #Labeling the variable for plotting\n",
    "height = df['height'].dropna() #Selecting the size column. I need to drop the NA's, otherwise Seaborn won't plot\n",
    "sns.distplot(height, kde=False) \n",
    "\n",
    "mean_size = df['height'].mean()\n",
    "median_size = df['height'].median()\n",
    "\n",
    "print(f'The median height is: {median_size} cm')\n",
    "print(f'The mean height is: {mean_size} cm')\n",
    "\n",
    "sns.distplot(height, kde=False)\n",
    "plt.title('Height of FitBit users')\n",
    "plt.axvline(median_size, 0, 100, color='green', label='median') #This adds a vertical line at x-position median_size, from y = 0 to y = 100 \n",
    "plt.axvline(mean_size, 0, 100, color='blue', label='mean') \n",
    "plt.legend() #This adds a legend. It works automatically because I've set the labels in the previous lines\n",
    "plt.show()"
   ]
  },
  {
   "cell_type": "code",
   "execution_count": 8,
   "metadata": {},
   "outputs": [
    {
     "data": {
      "image/png": "[encoded data removed]",
      "text/plain": [
       "<Figure size 432x288 with 1 Axes>"
      ]
     },
     "metadata": {
      "needs_background": "light"
     },
     "output_type": "display_data"
    }
   ],
   "source": [
    "#Boxplot chart\n",
    "sns.boxplot(df['height'])\n",
    "plt.title('Height of FitBit users')\n",
    "plt.xlabel('Height in cm')\n",
    "plt.show()"
   ]
  },
  {
   "cell_type": "code",
   "execution_count": 10,
   "metadata": {},
   "outputs": [
    {
     "data": {
      "image/png": "[encoded data removed]",
      "text/plain": [
       "<Figure size 432x288 with 1 Axes>"
      ]
     },
     "metadata": {
      "needs_background": "light"
     },
     "output_type": "display_data"
    }
   ],
   "source": [
    "#density plot of height\n",
    "sns.distplot(height, rug=True)\n",
    "plt.title('Height distribution')\n",
    "plt.xlabel('Height in cm')\n",
    "plt.ylabel('Amount of users')\n",
    "plt.show()"
   ]
  },
  {
   "cell_type": "markdown",
   "metadata": {},
   "source": [
    "The graphs show that most Fitbit users are a mean of 171.7545945945946 cm, and a median of 172 cm. Through the density plot, the chart shows a relativelivy normal bell curve, with raipd increase between ~167-174cm. Furthermore, the boxplot is also relatively equally distributed. Yer through the bar chart underneath, it shows increases in between ~167-174cm and also ~179-187cm, which may indicate a difference between the female and male user.\n",
    "However, as seen form 'value_counts' there is only one user of the height of 145cm, extending the boxplot further towards right (25% from left), which in essence makes the meadian (50% of users, median) of the chart tilt towards right. Yet, similarly there is also one user of the height of 197 cm, which in turn also extends the boxplot on the right (25% right), extending the graph on the left. Therefore, the mentioned two measures can equalize the left and right sides of the boxplot, while making the right side shorter as the meadian height is in favour of the tallest user."
   ]
  }
 ],
 "metadata": {
  "kernelspec": {
   "display_name": "Python 3",
   "language": "python",
   "name": "python3"
  },
  "language_info": {
   "codemirror_mode": {
    "name": "ipython",
    "version": 3
   },
   "file_extension": ".py",
   "mimetype": "text/x-python",
   "name": "python",
   "nbconvert_exporter": "python",
   "pygments_lexer": "ipython3",
   "version": "3.7.3"
  }
 },
 "nbformat": 4,
 "nbformat_minor": 2
}
